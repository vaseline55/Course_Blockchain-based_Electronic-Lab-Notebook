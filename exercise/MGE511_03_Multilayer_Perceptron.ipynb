{
  "nbformat": 4,
  "nbformat_minor": 0,
  "metadata": {
    "colab": {
      "name": "MGE511_03_Multilayer Perceptron.ipynb",
      "provenance": [],
      "authorship_tag": "ABX9TyOyq5Md0msw8Zga6BPkL1J9",
      "include_colab_link": true
    },
    "kernelspec": {
      "name": "python3",
      "display_name": "Python 3"
    },
    "accelerator": "GPU"
  },
  "cells": [
    {
      "cell_type": "markdown",
      "metadata": {
        "id": "view-in-github",
        "colab_type": "text"
      },
      "source": [
        "<a href=\"https://colab.research.google.com/github/vaseline555/Course__Blockchain-based-Electronic-Lab-Notebook/blob/master/exercise/MGE511_03_Multilayer_Perceptron.ipynb\" target=\"_parent\"><img src=\"https://colab.research.google.com/assets/colab-badge.svg\" alt=\"Open In Colab\"/></a>"
      ]
    },
    {
      "cell_type": "code",
      "metadata": {
        "id": "HcG3m0ebYDNn",
        "colab_type": "code",
        "colab": {
          "base_uri": "https://localhost:8080/",
          "height": 323
        },
        "outputId": "8ca159c2-2c27-4223-b58c-e270f3ba7d82"
      },
      "source": [
        "!nvidia-smi"
      ],
      "execution_count": 1,
      "outputs": [
        {
          "output_type": "stream",
          "text": [
            "Wed Apr  1 06:33:13 2020       \n",
            "+-----------------------------------------------------------------------------+\n",
            "| NVIDIA-SMI 440.64.00    Driver Version: 418.67       CUDA Version: 10.1     |\n",
            "|-------------------------------+----------------------+----------------------+\n",
            "| GPU  Name        Persistence-M| Bus-Id        Disp.A | Volatile Uncorr. ECC |\n",
            "| Fan  Temp  Perf  Pwr:Usage/Cap|         Memory-Usage | GPU-Util  Compute M. |\n",
            "|===============================+======================+======================|\n",
            "|   0  Tesla P100-PCIE...  Off  | 00000000:00:04.0 Off |                    0 |\n",
            "| N/A   35C    P0    26W / 250W |      0MiB / 16280MiB |      0%      Default |\n",
            "+-------------------------------+----------------------+----------------------+\n",
            "                                                                               \n",
            "+-----------------------------------------------------------------------------+\n",
            "| Processes:                                                       GPU Memory |\n",
            "|  GPU       PID   Type   Process name                             Usage      |\n",
            "|=============================================================================|\n",
            "|  No running processes found                                                 |\n",
            "+-----------------------------------------------------------------------------+\n"
          ],
          "name": "stdout"
        }
      ]
    },
    {
      "cell_type": "code",
      "metadata": {
        "id": "KGc779dYZAxk",
        "colab_type": "code",
        "colab": {
          "base_uri": "https://localhost:8080/",
          "height": 35
        },
        "outputId": "22500d52-a0ed-4ba4-e422-60e66b51504e"
      },
      "source": [
        "import torch\n",
        "import torch.nn as nn\n",
        "import torch.optim as opt\n",
        "\n",
        "print(torch.__version__)"
      ],
      "execution_count": 2,
      "outputs": [
        {
          "output_type": "stream",
          "text": [
            "1.4.0\n"
          ],
          "name": "stdout"
        }
      ]
    },
    {
      "cell_type": "code",
      "metadata": {
        "id": "ysg0OXJqZJMi",
        "colab_type": "code",
        "colab": {}
      },
      "source": [
        "import sys\n",
        "sys.path.insert(0, '..')"
      ],
      "execution_count": 0,
      "outputs": []
    },
    {
      "cell_type": "code",
      "metadata": {
        "id": "GyJrxazvZOLq",
        "colab_type": "code",
        "colab": {}
      },
      "source": [
        "import torchvision.transforms as transforms\n",
        "from torchvision.datasets import MNIST\n",
        "\n",
        "mnist_transform = transforms.Compose([transforms.ToTensor()])\n",
        "\n",
        "mnist_train = MNIST(root='./', train=True, download=True, transform=mnist_transform)\n",
        "mnist_test = MNIST(root='./', train=False, download=True, transform=mnist_transform)"
      ],
      "execution_count": 0,
      "outputs": []
    },
    {
      "cell_type": "code",
      "metadata": {
        "id": "-OtvKeQTZkRR",
        "colab_type": "code",
        "colab": {}
      },
      "source": [
        "from torch.utils.data import DataLoader\n",
        "\n",
        "BATCH_SIZE = 6\n",
        "train_loader = DataLoader(mnist_train, batch_size=BATCH_SIZE, shuffle=True, num_workers=4)"
      ],
      "execution_count": 0,
      "outputs": []
    },
    {
      "cell_type": "code",
      "metadata": {
        "id": "6C-YJhBxZxSh",
        "colab_type": "code",
        "colab": {
          "base_uri": "https://localhost:8080/",
          "height": 303
        },
        "outputId": "257c17ee-ac7f-4b49-dafe-97e411cf88d6"
      },
      "source": [
        "import matplotlib.pyplot as plt\n",
        "\n",
        "for X, y in train_loader:\n",
        "  print(X.shape)\n",
        "  print(y.shape)\n",
        "\n",
        "  fig = plt.figure()\n",
        "  for i in range(BATCH_SIZE):\n",
        "    plt.subplot(2, BATCH_SIZE // 2, i + 1)\n",
        "    plt.imshow(X[i].reshape(X[i].shape[1], -1), cmap='gray')\n",
        "  break"
      ],
      "execution_count": 6,
      "outputs": [
        {
          "output_type": "stream",
          "text": [
            "torch.Size([6, 1, 28, 28])\n",
            "torch.Size([6])\n"
          ],
          "name": "stdout"
        },
        {
          "output_type": "display_data",
          "data": {
            "image/png": "[encoded data removed]",
            "text/plain": [
              "<Figure size 432x288 with 6 Axes>"
            ]
          },
          "metadata": {
            "tags": []
          }
        }
      ]
    },
    {
      "cell_type": "code",
      "metadata": {
        "id": "VWAZjLjOZ_-J",
        "colab_type": "code",
        "colab": {}
      },
      "source": [
        "class MultiLayerPerceptron(nn.Module):\n",
        "  def __init__(self):\n",
        "    super(MultiLayerPerceptron, self).__init__()\n",
        "    self.layer0 = nn.Linear(28 * 28, 64, bias=True)\n",
        "    self.layer1 = nn.Linear(64, 32, bias=False)\n",
        "    self.layer2 = nn.Linear(32, 10, bias=False)\n",
        "\n",
        "  def forward(self, inputs):\n",
        "    inputs = inputs.view(-1, 28 * 28)\n",
        "    hidden1 = self.layer0(inputs)\n",
        "    hidden2 = self.layer1(nn.ReLU()(hidden1))\n",
        "    outputs = self.layer2(nn.ReLU()(hidden2))\n",
        "\n",
        "    return outputs"
      ],
      "execution_count": 0,
      "outputs": []
    },
    {
      "cell_type": "code",
      "metadata": {
        "id": "Ez_OwSFHanCM",
        "colab_type": "code",
        "colab": {}
      },
      "source": [
        "model = MultiLayerPerceptron().cuda()"
      ],
      "execution_count": 0,
      "outputs": []
    },
    {
      "cell_type": "code",
      "metadata": {
        "id": "lqf4kWlWaofJ",
        "colab_type": "code",
        "colab": {
          "base_uri": "https://localhost:8080/",
          "height": 107
        },
        "outputId": "2d5da90e-1c25-4c9b-a0b3-26858d896c20"
      },
      "source": [
        "[print(p.shape) for p in model.parameters()]"
      ],
      "execution_count": 9,
      "outputs": [
        {
          "output_type": "stream",
          "text": [
            "torch.Size([64, 784])\n",
            "torch.Size([64])\n",
            "torch.Size([32, 64])\n",
            "torch.Size([10, 32])\n"
          ],
          "name": "stdout"
        },
        {
          "output_type": "execute_result",
          "data": {
            "text/plain": [
              "[None, None, None, None]"
            ]
          },
          "metadata": {
            "tags": []
          },
          "execution_count": 9
        }
      ]
    },
    {
      "cell_type": "code",
      "metadata": {
        "id": "FF8vK29Sarsp",
        "colab_type": "code",
        "colab": {}
      },
      "source": [
        "criterion = nn.CrossEntropyLoss()\n",
        "optimizer = opt.SGD(model.parameters(), lr=0.005)"
      ],
      "execution_count": 0,
      "outputs": []
    },
    {
      "cell_type": "code",
      "metadata": {
        "id": "mWoQRU6ta3NJ",
        "colab_type": "code",
        "colab": {}
      },
      "source": [
        "BATCH_SIZE = 128\n",
        "NUM_EPOCHS = 200\n",
        "\n",
        "loss_graph = {'train': [], 'test': [], 'epoch': []}\n",
        "\n",
        "train_loader = DataLoader(mnist_train, batch_size=BATCH_SIZE, shuffle=True)\n",
        "test_loader = DataLoader(mnist_test, batch_size=BATCH_SIZE, shuffle=True)"
      ],
      "execution_count": 0,
      "outputs": []
    },
    {
      "cell_type": "code",
      "metadata": {
        "id": "qUZ07JyYbFT5",
        "colab_type": "code",
        "colab": {
          "base_uri": "https://localhost:8080/",
          "height": 1000
        },
        "outputId": "7594790f-28e8-4172-891a-a5f4978fbc92"
      },
      "source": [
        "for epoch in range(NUM_EPOCHS):\n",
        "  for X_train, y_train in train_loader:\n",
        "    y_pred_train = model(X_train.cuda())\n",
        "    loss = criterion(y_pred_train, y_train.cuda())\n",
        "    \n",
        "    optimizer.zero_grad()\n",
        "    loss.backward()\n",
        "    optimizer.step()\n",
        "\n",
        "  if epoch % 10 == 0:\n",
        "    loss = criterion(y_pred_train, y_train.cuda())\n",
        "    loss_graph['train'].append(loss)\n",
        "\n",
        "    count = 0\n",
        "\n",
        "    for X_test, y_test in test_loader:\n",
        "      with torch.autograd.no_grad():\n",
        "        y_pred_test = model(X_test.cuda())\n",
        "        correct = torch.sum(torch.argmax(y_pred_test, 1) == y_test.cuda())\n",
        "        count += correct.cpu().detach().numpy()\n",
        "    \n",
        "    loss_test = criterion(y_pred_test, y_test.cuda())\n",
        "    loss_graph['test'].append(loss_test)\n",
        "    loss_graph['epoch'].append(epoch)\n",
        "\n",
        "    print(f'\\n[INFO] Test accuracy: {100 * count / 10000:.1f} %')\n",
        "    print(f'[INFO] Epoch: {epoch + 1}, Train Loss: {loss}, Test Loss: {loss_test}')"
      ],
      "execution_count": 12,
      "outputs": [
        {
          "output_type": "stream",
          "text": [
            "\n",
            "[INFO] Test accuracy: 41.1 %\n",
            "[INFO] Epoch: 1, Train Loss: 2.2417476177215576, Test Loss: 2.1924479007720947\n",
            "\n",
            "[INFO] Test accuracy: 88.9 %\n",
            "[INFO] Epoch: 11, Train Loss: 0.46213456988334656, Test Loss: 0.4386400580406189\n",
            "\n",
            "[INFO] Test accuracy: 91.3 %\n",
            "[INFO] Epoch: 21, Train Loss: 0.18550603091716766, Test Loss: 0.3018083870410919\n",
            "\n",
            "[INFO] Test accuracy: 92.6 %\n",
            "[INFO] Epoch: 31, Train Loss: 0.41065895557403564, Test Loss: 0.03919985890388489\n",
            "\n",
            "[INFO] Test accuracy: 93.4 %\n",
            "[INFO] Epoch: 41, Train Loss: 0.25233331322669983, Test Loss: 0.0341830849647522\n",
            "\n",
            "[INFO] Test accuracy: 94.2 %\n",
            "[INFO] Epoch: 51, Train Loss: 0.21822841465473175, Test Loss: 0.07490229606628418\n",
            "\n",
            "[INFO] Test accuracy: 94.7 %\n",
            "[INFO] Epoch: 61, Train Loss: 0.1017194613814354, Test Loss: 0.04471242427825928\n",
            "\n",
            "[INFO] Test accuracy: 95.1 %\n",
            "[INFO] Epoch: 71, Train Loss: 0.173405721783638, Test Loss: 0.19710904359817505\n",
            "\n",
            "[INFO] Test accuracy: 95.5 %\n",
            "[INFO] Epoch: 81, Train Loss: 0.25588735938072205, Test Loss: 0.9154233932495117\n",
            "\n",
            "[INFO] Test accuracy: 95.8 %\n",
            "[INFO] Epoch: 91, Train Loss: 0.23750627040863037, Test Loss: 0.03662896156311035\n",
            "\n",
            "[INFO] Test accuracy: 96.1 %\n",
            "[INFO] Epoch: 101, Train Loss: 0.15418703854084015, Test Loss: 0.04406094551086426\n",
            "\n",
            "[INFO] Test accuracy: 96.3 %\n",
            "[INFO] Epoch: 111, Train Loss: 0.058398932218551636, Test Loss: 0.11655107140541077\n",
            "\n",
            "[INFO] Test accuracy: 96.5 %\n",
            "[INFO] Epoch: 121, Train Loss: 0.10272335261106491, Test Loss: 0.2365824580192566\n",
            "\n",
            "[INFO] Test accuracy: 96.6 %\n",
            "[INFO] Epoch: 131, Train Loss: 0.06807144731283188, Test Loss: 0.02501872181892395\n",
            "\n",
            "[INFO] Test accuracy: 96.8 %\n",
            "[INFO] Epoch: 141, Train Loss: 0.1723894327878952, Test Loss: 0.0203133225440979\n",
            "\n",
            "[INFO] Test accuracy: 96.8 %\n",
            "[INFO] Epoch: 151, Train Loss: 0.1362040638923645, Test Loss: 0.016742974519729614\n",
            "\n",
            "[INFO] Test accuracy: 96.8 %\n",
            "[INFO] Epoch: 161, Train Loss: 0.05790777504444122, Test Loss: 0.33854836225509644\n",
            "\n",
            "[INFO] Test accuracy: 97.0 %\n",
            "[INFO] Epoch: 171, Train Loss: 0.06854458898305893, Test Loss: 0.017421722412109375\n",
            "\n",
            "[INFO] Test accuracy: 97.1 %\n",
            "[INFO] Epoch: 181, Train Loss: 0.060640107840299606, Test Loss: 0.16909834742546082\n",
            "\n",
            "[INFO] Test accuracy: 97.1 %\n",
            "[INFO] Epoch: 191, Train Loss: 0.05313046649098396, Test Loss: 0.018513977527618408\n"
          ],
          "name": "stdout"
        }
      ]
    },
    {
      "cell_type": "code",
      "metadata": {
        "id": "5FuAnB_RcH6r",
        "colab_type": "code",
        "colab": {
          "base_uri": "https://localhost:8080/",
          "height": 279
        },
        "outputId": "6cf0c2ad-069b-45c5-fb58-5b24df823144"
      },
      "source": [
        "plt.plot(loss_graph['epoch'], loss_graph['train'])\n",
        "plt.plot(loss_graph['epoch'], loss_graph['test'])\n",
        "plt.xlabel('epoch')\n",
        "plt.ylabel('loss')\n",
        "plt.show()"
      ],
      "execution_count": 13,
      "outputs": [
        {
          "output_type": "display_data",
          "data": {
            "image/png": "[encoded data removed]",
            "text/plain": [
              "<Figure size 432x288 with 1 Axes>"
            ]
          },
          "metadata": {
            "tags": []
          }
        }
      ]
    }
  ]
}