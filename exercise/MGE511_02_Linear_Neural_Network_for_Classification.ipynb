{
  "nbformat": 4,
  "nbformat_minor": 0,
  "metadata": {
    "colab": {
      "name": "MGE511_02_Linear Neural Network for Classification.ipynb",
      "provenance": [],
      "authorship_tag": "ABX9TyPMgg5vELw6/QHuFKoVMTJ+",
      "include_colab_link": true
    },
    "kernelspec": {
      "name": "python3",
      "display_name": "Python 3"
    },
    "accelerator": "GPU"
  },
  "cells": [
    {
      "cell_type": "markdown",
      "metadata": {
        "id": "view-in-github",
        "colab_type": "text"
      },
      "source": [
        "<a href=\"https://colab.research.google.com/github/vaseline555/Course__Blockchain-based-Electronic-Lab-Notebook/blob/master/exercise/MGE511_02_Linear_Neural_Network_for_Classification.ipynb\" target=\"_parent\"><img src=\"https://colab.research.google.com/assets/colab-badge.svg\" alt=\"Open In Colab\"/></a>"
      ]
    },
    {
      "cell_type": "code",
      "metadata": {
        "id": "lRSWSXjRMdbj",
        "colab_type": "code",
        "colab": {
          "base_uri": "https://localhost:8080/",
          "height": 323
        },
        "outputId": "4b020478-798b-415c-bbf3-24858c206198"
      },
      "source": [
        "!nvidia-smi"
      ],
      "execution_count": 1,
      "outputs": [
        {
          "output_type": "stream",
          "text": [
            "Mon Mar 30 07:21:34 2020       \n",
            "+-----------------------------------------------------------------------------+\n",
            "| NVIDIA-SMI 440.64.00    Driver Version: 418.67       CUDA Version: 10.1     |\n",
            "|-------------------------------+----------------------+----------------------+\n",
            "| GPU  Name        Persistence-M| Bus-Id        Disp.A | Volatile Uncorr. ECC |\n",
            "| Fan  Temp  Perf  Pwr:Usage/Cap|         Memory-Usage | GPU-Util  Compute M. |\n",
            "|===============================+======================+======================|\n",
            "|   0  Tesla P100-PCIE...  Off  | 00000000:00:04.0 Off |                    0 |\n",
            "| N/A   37C    P0    26W / 250W |      0MiB / 16280MiB |      0%      Default |\n",
            "+-------------------------------+----------------------+----------------------+\n",
            "                                                                               \n",
            "+-----------------------------------------------------------------------------+\n",
            "| Processes:                                                       GPU Memory |\n",
            "|  GPU       PID   Type   Process name                             Usage      |\n",
            "|=============================================================================|\n",
            "|  No running processes found                                                 |\n",
            "+-----------------------------------------------------------------------------+\n"
          ],
          "name": "stdout"
        }
      ]
    },
    {
      "cell_type": "code",
      "metadata": {
        "id": "FOux2zj8Rz18",
        "colab_type": "code",
        "colab": {}
      },
      "source": [
        "import torch\n",
        "import torch.nn as nn\n",
        "import torch.optim as opt"
      ],
      "execution_count": 0,
      "outputs": []
    },
    {
      "cell_type": "code",
      "metadata": {
        "id": "cY3d4iCrNSDb",
        "colab_type": "code",
        "colab": {}
      },
      "source": [
        "import sys\n",
        "sys.path.insert(0, '..')"
      ],
      "execution_count": 0,
      "outputs": []
    },
    {
      "cell_type": "code",
      "metadata": {
        "id": "G7PVF2XpQSeQ",
        "colab_type": "code",
        "colab": {}
      },
      "source": [
        "import torchvision\n",
        "import torchvision.transforms as transforms"
      ],
      "execution_count": 0,
      "outputs": []
    },
    {
      "cell_type": "code",
      "metadata": {
        "id": "3eJpnqDPQXCA",
        "colab_type": "code",
        "colab": {}
      },
      "source": [
        "mnist_transform = transforms.Compose([transforms.ToTensor()])\n",
        "\n",
        "mnist_train = torchvision.datasets.MNIST(root='./', train=True, download=True, transform=mnist_transform)\n",
        "mnist_test = torchvision.datasets.MNIST(root='./', train=False, download=True, transform=mnist_transform)"
      ],
      "execution_count": 0,
      "outputs": []
    },
    {
      "cell_type": "code",
      "metadata": {
        "id": "qqYh5Sl1QihQ",
        "colab_type": "code",
        "colab": {}
      },
      "source": [
        "from torch.utils.data import DataLoader\n",
        "\n",
        "BATCH_SIZE = 6\n",
        "train_loader = DataLoader(mnist_train, batch_size=BATCH_SIZE, shuffle=True)"
      ],
      "execution_count": 0,
      "outputs": []
    },
    {
      "cell_type": "code",
      "metadata": {
        "id": "_GxcfQWtQqRo",
        "colab_type": "code",
        "colab": {
          "base_uri": "https://localhost:8080/",
          "height": 303
        },
        "outputId": "3f49ea45-e89f-4fe8-fa57-264cf0c93bf3"
      },
      "source": [
        "import matplotlib.pyplot as plt\n",
        "\n",
        "for X, y in train_loader:\n",
        "  print(X.shape)\n",
        "  print(y)\n",
        "\n",
        "  fig = plt.figure()\n",
        "  for i in range(BATCH_SIZE):\n",
        "    plt.subplot(2, BATCH_SIZE // 2, i + 1)\n",
        "    plt.imshow(X[i].reshape(X[i].shape[1], -1), cmap='gray')\n",
        "  break"
      ],
      "execution_count": 7,
      "outputs": [
        {
          "output_type": "stream",
          "text": [
            "torch.Size([6, 1, 28, 28])\n",
            "tensor([5, 6, 8, 4, 6, 1])\n"
          ],
          "name": "stdout"
        },
        {
          "output_type": "display_data",
          "data": {
            "image/png": "[encoded data removed]",
            "text/plain": [
              "<Figure size 432x288 with 6 Axes>"
            ]
          },
          "metadata": {
            "tags": []
          }
        }
      ]
    },
    {
      "cell_type": "code",
      "metadata": {
        "id": "i3cdcgB8RSVw",
        "colab_type": "code",
        "colab": {}
      },
      "source": [
        "class LinearRegressionModel(nn.Module):\n",
        "  def __init__(self):\n",
        "    super(LinearRegressionModel, self).__init__()\n",
        "    self.layer = nn.Linear(28 * 28, 10, bias=True)\n",
        "\n",
        "  def forward(self, inputs):\n",
        "    inputs = inputs.view(-1, 28 * 28)\n",
        "    outputs = self.layer(inputs)\n",
        "\n",
        "    return outputs"
      ],
      "execution_count": 0,
      "outputs": []
    },
    {
      "cell_type": "code",
      "metadata": {
        "id": "aoAQq-eeRlNw",
        "colab_type": "code",
        "colab": {}
      },
      "source": [
        "model = LinearRegressionModel().cuda()"
      ],
      "execution_count": 0,
      "outputs": []
    },
    {
      "cell_type": "code",
      "metadata": {
        "id": "7leT3RPhRnTA",
        "colab_type": "code",
        "colab": {
          "base_uri": "https://localhost:8080/",
          "height": 53
        },
        "outputId": "4948b714-e366-40e5-c2ff-12fb151a63d9"
      },
      "source": [
        "print(model.layer.weight.data.shape)\n",
        "print(model.layer.bias.data.shape)"
      ],
      "execution_count": 10,
      "outputs": [
        {
          "output_type": "stream",
          "text": [
            "torch.Size([10, 784])\n",
            "torch.Size([10])\n"
          ],
          "name": "stdout"
        }
      ]
    },
    {
      "cell_type": "code",
      "metadata": {
        "id": "1UXxz6WuRwr3",
        "colab_type": "code",
        "colab": {}
      },
      "source": [
        "criterion = nn.CrossEntropyLoss()\n",
        "optimizer = opt.SGD(model.parameters(), lr=0.005)"
      ],
      "execution_count": 0,
      "outputs": []
    },
    {
      "cell_type": "code",
      "metadata": {
        "id": "9mNGIqhASAh_",
        "colab_type": "code",
        "colab": {}
      },
      "source": [
        "BATCH_SIZE = 128\n",
        "train_loader = DataLoader(mnist_train, batch_size=BATCH_SIZE, shuffle=True)\n",
        "test_loader = DataLoader(mnist_test, batch_size=BATCH_SIZE, shuffle=True)\n",
        "\n",
        "NUM_EPOCHS = 200\n",
        "loss_graph = {'train': [], 'test': [], 'epoch': []}"
      ],
      "execution_count": 0,
      "outputs": []
    },
    {
      "cell_type": "code",
      "metadata": {
        "id": "wGymkgIuST2X",
        "colab_type": "code",
        "colab": {
          "base_uri": "https://localhost:8080/",
          "height": 1000
        },
        "outputId": "d3e67aa9-8a45-4a37-eb79-48f31d8a6682"
      },
      "source": [
        "for epoch in range(NUM_EPOCHS):\n",
        "  for X_train, y_train in train_loader:\n",
        "    y_pred_train = model(X_train.cuda())\n",
        "    \n",
        "    loss = criterion(y_pred_train, y_train.cuda())\n",
        "\n",
        "    optimizer.zero_grad()\n",
        "    loss.backward()\n",
        "    optimizer.step()\n",
        "\n",
        "  if epoch % 10 == 0:\n",
        "    loss = criterion(y_pred_train, y_train.cuda())\n",
        "    loss_graph['train'].append(loss)\n",
        "\n",
        "    count = 0\n",
        "    for X_test, y_test in test_loader:\n",
        "      \n",
        "      with torch.autograd.no_grad():\n",
        "        y_pred_test = model(X_test.cuda())\n",
        "        correct = torch.sum(torch.argmax(y_pred_test.cuda(), dim=1) == y_test.cuda())\n",
        "        count += correct.cpu().numpy()\n",
        "\n",
        "    loss_test = criterion(y_pred_test.cuda(), y_test.cuda())\n",
        "    loss_graph['test'].append(loss_test)\n",
        "    loss_graph['epoch'].append(epoch)\n",
        "\n",
        "    print(f'\\n[INFO] Test accuracy: {count / 10000 * 100:.2f} %')\n",
        "    print(f'[INFO] Epoch: {epoch + 1}, Train Loss: {loss:.4f}, Test Loss: {loss_test:.4f}')"
      ],
      "execution_count": 13,
      "outputs": [
        {
          "output_type": "stream",
          "text": [
            "\n",
            "[INFO] Test accuracy: 81.76 %\n",
            "[INFO] Epoch: 1, Train Loss: 1.1495, Test Loss: 1.1543\n",
            "\n",
            "[INFO] Test accuracy: 88.93 %\n",
            "[INFO] Epoch: 11, Train Loss: 0.4706, Test Loss: 0.5989\n",
            "\n",
            "[INFO] Test accuracy: 90.09 %\n",
            "[INFO] Epoch: 21, Train Loss: 0.3125, Test Loss: 0.5874\n",
            "\n",
            "[INFO] Test accuracy: 90.61 %\n",
            "[INFO] Epoch: 31, Train Loss: 0.2610, Test Loss: 0.1310\n",
            "\n",
            "[INFO] Test accuracy: 90.95 %\n",
            "[INFO] Epoch: 41, Train Loss: 0.3914, Test Loss: 0.6686\n",
            "\n",
            "[INFO] Test accuracy: 91.14 %\n",
            "[INFO] Epoch: 51, Train Loss: 0.4628, Test Loss: 0.4260\n",
            "\n",
            "[INFO] Test accuracy: 91.39 %\n",
            "[INFO] Epoch: 61, Train Loss: 0.2460, Test Loss: 0.5941\n",
            "\n",
            "[INFO] Test accuracy: 91.54 %\n",
            "[INFO] Epoch: 71, Train Loss: 0.2009, Test Loss: 0.3348\n",
            "\n",
            "[INFO] Test accuracy: 91.63 %\n",
            "[INFO] Epoch: 81, Train Loss: 0.2077, Test Loss: 0.2495\n",
            "\n",
            "[INFO] Test accuracy: 91.70 %\n",
            "[INFO] Epoch: 91, Train Loss: 0.2901, Test Loss: 0.2351\n",
            "\n",
            "[INFO] Test accuracy: 91.81 %\n",
            "[INFO] Epoch: 101, Train Loss: 0.3252, Test Loss: 0.1588\n",
            "\n",
            "[INFO] Test accuracy: 91.87 %\n",
            "[INFO] Epoch: 111, Train Loss: 0.2547, Test Loss: 0.0902\n",
            "\n",
            "[INFO] Test accuracy: 91.94 %\n",
            "[INFO] Epoch: 121, Train Loss: 0.2334, Test Loss: 0.2685\n",
            "\n",
            "[INFO] Test accuracy: 91.96 %\n",
            "[INFO] Epoch: 131, Train Loss: 0.3348, Test Loss: 0.0903\n",
            "\n",
            "[INFO] Test accuracy: 92.00 %\n",
            "[INFO] Epoch: 141, Train Loss: 0.2613, Test Loss: 0.4030\n",
            "\n",
            "[INFO] Test accuracy: 92.00 %\n",
            "[INFO] Epoch: 151, Train Loss: 0.3448, Test Loss: 0.5390\n",
            "\n",
            "[INFO] Test accuracy: 92.01 %\n",
            "[INFO] Epoch: 161, Train Loss: 0.2938, Test Loss: 0.5420\n",
            "\n",
            "[INFO] Test accuracy: 91.98 %\n",
            "[INFO] Epoch: 171, Train Loss: 0.1945, Test Loss: 0.2515\n",
            "\n",
            "[INFO] Test accuracy: 92.06 %\n",
            "[INFO] Epoch: 181, Train Loss: 0.2547, Test Loss: 0.1806\n",
            "\n",
            "[INFO] Test accuracy: 92.04 %\n",
            "[INFO] Epoch: 191, Train Loss: 0.1459, Test Loss: 0.1054\n"
          ],
          "name": "stdout"
        }
      ]
    },
    {
      "cell_type": "code",
      "metadata": {
        "id": "6byxlLAUTtmR",
        "colab_type": "code",
        "colab": {
          "base_uri": "https://localhost:8080/",
          "height": 282
        },
        "outputId": "b41ce7f7-1ea3-41a9-dc78-6eafe8fecdf0"
      },
      "source": [
        "plt.plot(loss_graph['epoch'], loss_graph['train'], label='training')\n",
        "plt.plot(loss_graph['epoch'], loss_graph['test'], label='test')\n",
        "plt.xlabel('epoch')\n",
        "plt.ylabel('loss')\n",
        "plt.legend()\n",
        "plt.show()"
      ],
      "execution_count": 15,
      "outputs": [
        {
          "output_type": "display_data",
          "data": {
            "image/png": "[encoded data removed]",
            "text/plain": [
              "<Figure size 432x288 with 1 Axes>"
            ]
          },
          "metadata": {
            "tags": []
          }
        }
      ]
    },
    {
      "cell_type": "code",
      "metadata": {
        "id": "oUwWG5hhUFj_",
        "colab_type": "code",
        "colab": {}
      },
      "source": [
        ""
      ],
      "execution_count": 0,
      "outputs": []
    }
  ]
}